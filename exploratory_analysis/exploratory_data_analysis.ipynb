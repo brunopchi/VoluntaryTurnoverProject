{
 "cells": [
  {
   "cell_type": "markdown",
   "metadata": {},
   "source": [
    "# Exploratory data analysis"
   ]
  },
  {
   "cell_type": "code",
   "execution_count": 76,
   "metadata": {},
   "outputs": [],
   "source": [
    "import os\n",
    "import warnings\n",
    "import pandas as pd\n",
    "import numpy as np\n",
    "import ydata_profiling as yp\n",
    "import sweetviz as sv\n",
    "from autoviz.AutoViz_Class import AutoViz_Class\n",
    "import matplotlib.pyplot as plt\n",
    "\n",
    "warnings.filterwarnings('ignore')\n",
    "%matplotlib inline"
   ]
  },
  {
   "cell_type": "code",
   "execution_count": 66,
   "metadata": {},
   "outputs": [
    {
     "data": {
      "text/html": [
       "<div>\n",
       "<style scoped>\n",
       "    .dataframe tbody tr th:only-of-type {\n",
       "        vertical-align: middle;\n",
       "    }\n",
       "\n",
       "    .dataframe tbody tr th {\n",
       "        vertical-align: top;\n",
       "    }\n",
       "\n",
       "    .dataframe thead th {\n",
       "        text-align: right;\n",
       "    }\n",
       "</style>\n",
       "<table border=\"1\" class=\"dataframe\">\n",
       "  <thead>\n",
       "    <tr style=\"text-align: right;\">\n",
       "      <th></th>\n",
       "      <th>department</th>\n",
       "      <th>promoted</th>\n",
       "      <th>review</th>\n",
       "      <th>projects</th>\n",
       "      <th>salary</th>\n",
       "      <th>tenure</th>\n",
       "      <th>satisfaction</th>\n",
       "      <th>bonus</th>\n",
       "      <th>avg_hrs_month</th>\n",
       "      <th>left</th>\n",
       "    </tr>\n",
       "  </thead>\n",
       "  <tbody>\n",
       "    <tr>\n",
       "      <th>0</th>\n",
       "      <td>operations</td>\n",
       "      <td>0</td>\n",
       "      <td>0.577569</td>\n",
       "      <td>3</td>\n",
       "      <td>low</td>\n",
       "      <td>5.0</td>\n",
       "      <td>0.626759</td>\n",
       "      <td>0</td>\n",
       "      <td>180.866070</td>\n",
       "      <td>no</td>\n",
       "    </tr>\n",
       "    <tr>\n",
       "      <th>1</th>\n",
       "      <td>operations</td>\n",
       "      <td>0</td>\n",
       "      <td>0.751900</td>\n",
       "      <td>3</td>\n",
       "      <td>medium</td>\n",
       "      <td>6.0</td>\n",
       "      <td>0.443679</td>\n",
       "      <td>0</td>\n",
       "      <td>182.708149</td>\n",
       "      <td>no</td>\n",
       "    </tr>\n",
       "    <tr>\n",
       "      <th>2</th>\n",
       "      <td>support</td>\n",
       "      <td>0</td>\n",
       "      <td>0.722548</td>\n",
       "      <td>3</td>\n",
       "      <td>medium</td>\n",
       "      <td>6.0</td>\n",
       "      <td>0.446823</td>\n",
       "      <td>0</td>\n",
       "      <td>184.416084</td>\n",
       "      <td>no</td>\n",
       "    </tr>\n",
       "    <tr>\n",
       "      <th>3</th>\n",
       "      <td>logistics</td>\n",
       "      <td>0</td>\n",
       "      <td>0.675158</td>\n",
       "      <td>4</td>\n",
       "      <td>high</td>\n",
       "      <td>8.0</td>\n",
       "      <td>0.440139</td>\n",
       "      <td>0</td>\n",
       "      <td>188.707545</td>\n",
       "      <td>no</td>\n",
       "    </tr>\n",
       "    <tr>\n",
       "      <th>4</th>\n",
       "      <td>sales</td>\n",
       "      <td>0</td>\n",
       "      <td>0.676203</td>\n",
       "      <td>3</td>\n",
       "      <td>high</td>\n",
       "      <td>5.0</td>\n",
       "      <td>0.577607</td>\n",
       "      <td>1</td>\n",
       "      <td>179.821083</td>\n",
       "      <td>no</td>\n",
       "    </tr>\n",
       "  </tbody>\n",
       "</table>\n",
       "</div>"
      ],
      "text/plain": [
       "   department  promoted    review  projects  salary  tenure  satisfaction  \\\n",
       "0  operations         0  0.577569         3     low     5.0      0.626759   \n",
       "1  operations         0  0.751900         3  medium     6.0      0.443679   \n",
       "2     support         0  0.722548         3  medium     6.0      0.446823   \n",
       "3   logistics         0  0.675158         4    high     8.0      0.440139   \n",
       "4       sales         0  0.676203         3    high     5.0      0.577607   \n",
       "\n",
       "   bonus  avg_hrs_month left  \n",
       "0      0     180.866070   no  \n",
       "1      0     182.708149   no  \n",
       "2      0     184.416084   no  \n",
       "3      0     188.707545   no  \n",
       "4      1     179.821083   no  "
      ]
     },
     "execution_count": 66,
     "metadata": {},
     "output_type": "execute_result"
    }
   ],
   "source": [
    "df = pd.read_csv('../database/kaggle_voluntary_turnover_1.csv', sep=',', encoding='utf-8')\n",
    "df.head()"
   ]
  },
  {
   "cell_type": "code",
   "execution_count": 89,
   "metadata": {},
   "outputs": [
    {
     "data": {
      "text/plain": [
       "tenure  left\n",
       "2.0     yes        2\n",
       "        no         1\n",
       "3.0     yes       30\n",
       "        no        27\n",
       "4.0     no       332\n",
       "        yes      186\n",
       "5.0     no      1395\n",
       "        yes      428\n",
       "6.0     no      1835\n",
       "        yes      478\n",
       "7.0     no      1386\n",
       "        yes      823\n",
       "8.0     no      1065\n",
       "        yes      823\n",
       "9.0     no       564\n",
       "        yes       14\n",
       "10.0    no       127\n",
       "11.0    no        23\n",
       "12.0    no         1\n",
       "Name: left, dtype: int64"
      ]
     },
     "execution_count": 89,
     "metadata": {},
     "output_type": "execute_result"
    }
   ],
   "source": [
    "df.groupby(['tenure'])['left'].value_counts()"
   ]
  },
  {
   "cell_type": "code",
   "execution_count": null,
   "metadata": {},
   "outputs": [],
   "source": []
  },
  {
   "cell_type": "code",
   "execution_count": null,
   "metadata": {},
   "outputs": [],
   "source": []
  },
  {
   "cell_type": "code",
   "execution_count": null,
   "metadata": {},
   "outputs": [],
   "source": []
  },
  {
   "cell_type": "code",
   "execution_count": 62,
   "metadata": {},
   "outputs": [
    {
     "name": "stdout",
     "output_type": "stream",
     "text": [
      "Directory found.\n"
     ]
    }
   ],
   "source": [
    "try:\n",
    "    os.makedirs('./data_profiling')\n",
    "    print('No directory found.')\n",
    "    print('New directory created: data_profiling.')\n",
    "except:\n",
    "    print('Directory found.')"
   ]
  },
  {
   "cell_type": "markdown",
   "metadata": {},
   "source": [
    "### Ydata-profiling"
   ]
  },
  {
   "cell_type": "code",
   "execution_count": 63,
   "metadata": {},
   "outputs": [
    {
     "name": "stdout",
     "output_type": "stream",
     "text": [
      "File dados_gridsearchcv.pkl skipped!\n",
      "File dados_pre_processados.pkl skipped!\n"
     ]
    },
    {
     "data": {
      "application/vnd.jupyter.widget-view+json": {
       "model_id": "f6e747808f6f41f3a545863af06643f0",
       "version_major": 2,
       "version_minor": 0
      },
      "text/plain": [
       "Summarize dataset:   0%|          | 0/5 [00:00<?, ?it/s]"
      ]
     },
     "metadata": {},
     "output_type": "display_data"
    },
    {
     "data": {
      "application/vnd.jupyter.widget-view+json": {
       "model_id": "b37bafbf7fc14f919cc0b56a5bad48f2",
       "version_major": 2,
       "version_minor": 0
      },
      "text/plain": [
       "Generate report structure:   0%|          | 0/1 [00:00<?, ?it/s]"
      ]
     },
     "metadata": {},
     "output_type": "display_data"
    },
    {
     "data": {
      "application/vnd.jupyter.widget-view+json": {
       "model_id": "57fba0f8514644c8acbee4b476093781",
       "version_major": 2,
       "version_minor": 0
      },
      "text/plain": [
       "Render HTML:   0%|          | 0/1 [00:00<?, ?it/s]"
      ]
     },
     "metadata": {},
     "output_type": "display_data"
    },
    {
     "data": {
      "application/vnd.jupyter.widget-view+json": {
       "model_id": "8e1864564a3a4f64966f4934fa99eefb",
       "version_major": 2,
       "version_minor": 0
      },
      "text/plain": [
       "Export report to file:   0%|          | 0/1 [00:00<?, ?it/s]"
      ]
     },
     "metadata": {},
     "output_type": "display_data"
    }
   ],
   "source": [
    "folder_to_check = '../database'\n",
    "\n",
    "for file in os.listdir(folder_to_check):\n",
    "    if file.endswith(\".csv\"):\n",
    "        path_to_file = f'{folder_to_check}/{file}'\n",
    "        df = pd.read_csv(path_to_file, sep=',', encoding='utf-8')\n",
    "        profile = yp.ProfileReport(\n",
    "            df, \n",
    "            title=f'Ydata Profiling Report for {file}',\n",
    "            explorative=True\n",
    "        )\n",
    "        file = file.replace('.csv','')\n",
    "        profile.to_file(f'./data_profiling/ydata_profiling_{file}.html')\n",
    "    else:\n",
    "        print(f'File {file} skipped!')"
   ]
  },
  {
   "cell_type": "markdown",
   "metadata": {},
   "source": [
    "### Sweetviz profiling"
   ]
  },
  {
   "cell_type": "code",
   "execution_count": 80,
   "metadata": {},
   "outputs": [
    {
     "name": "stdout",
     "output_type": "stream",
     "text": [
      "File dados_gridsearchcv.pkl skipped!\n",
      "File dados_pre_processados.pkl skipped!\n"
     ]
    },
    {
     "data": {
      "application/vnd.jupyter.widget-view+json": {
       "model_id": "d5191cfa26ae4e34a63365326df8be16",
       "version_major": 2,
       "version_minor": 0
      },
      "text/plain": [
       "                                             |          | [  0%]   00:00 -> (? left)"
      ]
     },
     "metadata": {},
     "output_type": "display_data"
    },
    {
     "name": "stdout",
     "output_type": "stream",
     "text": [
      "Report ./data_profiling/sweetviz_report_kaggle_voluntary_turnover_1.html was generated.\n"
     ]
    }
   ],
   "source": [
    "folder_to_check = '../database'\n",
    "\n",
    "for file in os.listdir(folder_to_check):\n",
    "    if file.endswith(\".csv\"):\n",
    "        path_to_file = f'{folder_to_check}/{file}'\n",
    "        df = pd.read_csv(path_to_file, sep=',', encoding='utf-8')\n",
    "        report=sv.analyze(df, 'left')\n",
    "        file = file.replace('.csv','')\n",
    "        report.show_html(f'./data_profiling/sweetviz_report_{file}.html', open_browser=False)#, layout='vertical')\n",
    "    else:\n",
    "        print(f'File {file} skipped!')"
   ]
  },
  {
   "cell_type": "markdown",
   "metadata": {},
   "source": [
    "### Autoviz profiling"
   ]
  },
  {
   "cell_type": "code",
   "execution_count": 73,
   "metadata": {},
   "outputs": [
    {
     "name": "stdout",
     "output_type": "stream",
     "text": [
      "File dados_gridsearchcv.pkl skipped!\n",
      "File dados_pre_processados.pkl skipped!\n"
     ]
    },
    {
     "data": {
      "application/vnd.jupyter.widget-view+json": {
       "model_id": "9378a26d22d743f885d7ce87bc77dad4",
       "version_major": 2,
       "version_minor": 0
      },
      "text/plain": [
       "                                             |          | [  0%]   00:00 -> (? left)"
      ]
     },
     "metadata": {},
     "output_type": "display_data"
    },
    {
     "name": "stdout",
     "output_type": "stream",
     "text": [
      "Directory found.\n",
      "Shape of your Data Set loaded: (9540, 10)\n",
      "############## C L A S S I F Y I N G  V A R I A B L E S  ####################\n",
      "Classifying variables in data set...\n",
      "Data Set Shape: 9540 rows, 10 cols\n",
      "Data Set columns info:\n",
      "* department: 0 nulls, 10 unique vals, most common: {'sales': 1883, 'retail': 1541}\n",
      "* promoted: 0 nulls, 2 unique vals, most common: {0: 9251, 1: 289}\n",
      "* review: 0 nulls, 9540 unique vals, most common: {0.5775686596355698: 1, 0.7193418075620294: 1}\n",
      "* projects: 0 nulls, 4 unique vals, most common: {3: 5833, 4: 3058}\n",
      "* salary: 0 nulls, 3 unique vals, most common: {'medium': 6611, 'high': 1548}\n",
      "* tenure: 0 nulls, 11 unique vals, most common: {6.0: 2313, 7.0: 2209}\n",
      "* satisfaction: 0 nulls, 9540 unique vals, most common: {0.6267589740293295: 1, 0.3428019240965125: 1}\n",
      "* bonus: 0 nulls, 2 unique vals, most common: {0: 7517, 1: 2023}\n",
      "* avg_hrs_month: 0 nulls, 9540 unique vals, most common: {180.8660696668475: 1, 187.1782305793793: 1}\n",
      "* left: 0 nulls, 2 unique vals, most common: {'no': 6756, 'yes': 2784}\n",
      "--------------------------------------------------------------------\n",
      "    Numeric Columns: ['review', 'satisfaction', 'avg_hrs_month', 'tenure']\n",
      "    Integer-Categorical Columns: ['projects']\n",
      "    String-Categorical Columns: ['department', 'salary']\n",
      "    Factor-Categorical Columns: []\n",
      "    String-Boolean Columns: ['left']\n",
      "    Numeric-Boolean Columns: ['promoted', 'bonus']\n",
      "    Discrete String Columns: []\n",
      "    NLP text Columns: []\n",
      "    Date Time Columns: []\n",
      "    ID Columns: []\n",
      "    Columns that will not be considered in modeling: []\n",
      "    10 Predictors classified...\n",
      "        No variables removed since no ID or low-information variables found in data set\n",
      "Using Lowess Smoothing. This might take a few minutes for large data sets...\n",
      "Number of All Scatter Plots = 10\n",
      "Time to run AutoViz = 56 seconds \n",
      "File kaggle_voluntary_turnover_1_plots saved!\n"
     ]
    }
   ],
   "source": [
    "folder_to_check = '../database'\n",
    "target_variable = 'left'\n",
    "\n",
    "for file in os.listdir(folder_to_check):\n",
    "    if file.endswith('.csv'):\n",
    "        path_to_file = f'{folder_to_check}/{file}'\n",
    "        df = pd.read_csv(path_to_file, sep=',', encoding='utf-8')\n",
    "        report=sv.analyze(df)\n",
    "        av = AutoViz_Class()\n",
    "        file = file.replace('.csv','')\n",
    "        try:\n",
    "            os.makedirs(f'./data_profiling/{file}_plots')\n",
    "            print('No directory found.')\n",
    "            print(f'New directory created: {file}_plots.')\n",
    "            viz = av.AutoViz(\n",
    "                '',\n",
    "                sep=',',\n",
    "                depVar=target_variable,\n",
    "                dfte=df,\n",
    "                header=0,\n",
    "                verbose=2,\n",
    "                lowess=True,\n",
    "                chart_format='png',\n",
    "                max_rows_analyzed=200000,\n",
    "                max_cols_analyzed=100,\n",
    "                save_plot_dir=f'./data_profiling/{file}_plots'\n",
    "            )\n",
    "            print(f'File {file}_plots saved!')\n",
    "        except:\n",
    "            print('Directory found.')\n",
    "            viz = av.AutoViz(\n",
    "                '',\n",
    "                sep=',',\n",
    "                depVar=target_variable,\n",
    "                dfte=df,\n",
    "                header=0,\n",
    "                verbose=2,\n",
    "                lowess=True,\n",
    "                chart_format='png',\n",
    "                max_rows_analyzed=200000,\n",
    "                max_cols_analyzed=100,\n",
    "                save_plot_dir=f'./data_profiling/{file}_plots'\n",
    "            )\n",
    "            print(f'File {file}_plots saved!')\n",
    "    else:\n",
    "        print(f'File {file} skipped!')"
   ]
  },
  {
   "cell_type": "code",
   "execution_count": null,
   "metadata": {},
   "outputs": [],
   "source": []
  }
 ],
 "metadata": {
  "kernelspec": {
   "display_name": "Python 3",
   "language": "python",
   "name": "python3"
  },
  "language_info": {
   "codemirror_mode": {
    "name": "ipython",
    "version": 3
   },
   "file_extension": ".py",
   "mimetype": "text/x-python",
   "name": "python",
   "nbconvert_exporter": "python",
   "pygments_lexer": "ipython3",
   "version": "3.8.5"
  }
 },
 "nbformat": 4,
 "nbformat_minor": 4
}
